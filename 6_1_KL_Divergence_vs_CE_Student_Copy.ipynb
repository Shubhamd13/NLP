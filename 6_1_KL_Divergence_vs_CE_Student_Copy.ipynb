{
  "nbformat": 4,
  "nbformat_minor": 0,
  "metadata": {
    "colab": {
      "provenance": [],
      "collapsed_sections": [
        "ngE9h7Zs7f1W"
      ],
      "include_colab_link": true
    },
    "kernelspec": {
      "name": "python3",
      "display_name": "Python 3"
    },
    "language_info": {
      "name": "python"
    }
  },
  "cells": [
    {
      "cell_type": "markdown",
      "metadata": {
        "id": "view-in-github",
        "colab_type": "text"
      },
      "source": [
        "<a href=\"https://colab.research.google.com/github/Shubhamd13/NLP/blob/main/6_1_KL_Divergence_vs_CE_Student_Copy.ipynb\" target=\"_parent\"><img src=\"https://colab.research.google.com/assets/colab-badge.svg\" alt=\"Open In Colab\"/></a>"
      ]
    },
    {
      "cell_type": "markdown",
      "source": [
        "# Utility"
      ],
      "metadata": {
        "id": "ngE9h7Zs7f1W"
      }
    },
    {
      "cell_type": "code",
      "source": [
        "import numpy as np\n",
        "import matplotlib.pyplot as plt\n",
        "SEED = 42\n",
        "np.random.seed(SEED)\n",
        "np.set_printoptions(precision=2, suppress=True)"
      ],
      "metadata": {
        "id": "bDcg2-J552vE"
      },
      "execution_count": 1,
      "outputs": []
    },
    {
      "cell_type": "markdown",
      "source": [
        "# Vocabulary"
      ],
      "metadata": {
        "id": "3H20c0TfF_0c"
      }
    },
    {
      "cell_type": "code",
      "source": [
        "vocab = [\"mat\", \"the\", \"on\", \"cat\", \"sat\"]\n",
        "word_to_index = {word: i for i, word in enumerate(vocab)}\n",
        "\n",
        "vocab_size = len(vocab)\n",
        "embedding_dim = 4\n",
        "\n",
        "np.random.seed(SEED)\n",
        "embeddings = np.random.randn(vocab_size, embedding_dim)  # Token Embeddings"
      ],
      "metadata": {
        "id": "6d_Wmcw47c4R"
      },
      "execution_count": 2,
      "outputs": []
    },
    {
      "cell_type": "markdown",
      "source": [
        "# Decoder"
      ],
      "metadata": {
        "id": "vZ_PoRZ1_O8t"
      }
    },
    {
      "cell_type": "markdown",
      "source": [
        "To keep things simple, we will use a basic decoder architecture that follows this flow:\n",
        "\n",
        "$\n",
        "\\text{Input Embedding} \\rightarrow \\text{Self-Attention} \\rightarrow \\text{Residual Connection & LayerNorm} → \\text{Linear Projection to Vocabulary} \\rightarrow \\text{Loss Calculation}\n",
        "$\n",
        "\n",
        "We are skipping some of the usual components like MLP layers, Cross-Attention for simplicity."
      ],
      "metadata": {
        "id": "zwSEag1s_NQ-"
      }
    },
    {
      "cell_type": "markdown",
      "source": [
        "# Step 1. Input Embedding"
      ],
      "metadata": {
        "id": "EF3zylyRCR_c"
      }
    },
    {
      "cell_type": "code",
      "source": [
        "input_sentence = \"the cat sat on\"\n",
        "input_tokens = input_sentence.split()\n",
        "\n",
        "print(input_tokens)\n",
        "seq_len = len(input_tokens)\n",
        "\n",
        "input_indices = [word_to_index[word] for word in input_tokens]\n",
        "input_embedding = embeddings[input_indices]"
      ],
      "metadata": {
        "colab": {
          "base_uri": "https://localhost:8080/"
        },
        "id": "HdFOnUn-CRd2",
        "outputId": "2f20896d-0918-4fbb-aed5-511b1a4c9ab8"
      },
      "execution_count": 3,
      "outputs": [
        {
          "output_type": "stream",
          "name": "stdout",
          "text": [
            "['the', 'cat', 'sat', 'on']\n"
          ]
        }
      ]
    },
    {
      "cell_type": "markdown",
      "source": [
        "# Step 2. Self Attention Calculation"
      ],
      "metadata": {
        "id": "ESejnaYPBxuZ"
      }
    },
    {
      "cell_type": "markdown",
      "source": [
        "$\\textbf{Step a. Query, Key, and Value Computation:}$\n",
        "\n",
        "$Q = X W_Q, \\quad K = X W_K, \\quad V = X W_V$\n",
        "\n",
        "$\\textbf{Step b. Attention Scores:}$\n",
        "\n",
        "$\\text{Attention Scores} = \\frac{Q K^T}{\\sqrt{d}}$\n",
        "\n",
        "$\\textbf{Step c. Causal Masking:}$\n",
        "\n",
        "To enforce causal attention (only attending to past and current tokens), we apply a causal mask \\( M \\) to the attention scores matrix. The causal mask is defined as:\n",
        "\n",
        "$ M_{ij} =\n",
        "\\begin{cases}\n",
        "-\\infty & \\text{if } j > i \\\\\n",
        "0 & \\text{otherwise}\n",
        "\\end{cases}\n",
        "$\n",
        "\n",
        "The attention scores are updated by adding the mask:\n",
        "\n",
        "$\\text{Masked Attention Scores} = \\text{Attention Scores} + M$\n",
        "\n",
        "$\\textbf{Step d. Softmax:}$\n",
        "\n",
        "$\\text{Attention Weights} = \\text{Softmax}(\\text{Masked Attention Scores})$\n",
        "\n",
        "$\\textbf{Step e. Weighted Sum of Values:}$\n",
        "\n",
        "$\\text{Attention Output} = \\text{Attention Weights} \\cdot V$\n",
        "\n",
        "$\\textbf{Final Formula:}$\n",
        "\n",
        "$\n",
        "\\text{Attention Output} = \\text{Softmax}\\left( \\frac{Q K^T}{\\sqrt{d}} + M \\right) \\cdot V$\n",
        "\n",
        "$\\textbf{Formula for Softmax:}$\n",
        "\n",
        "$softmax(x_i) = \\frac{e^{x_i}}{\\sum_{j=1}^{K} e^{x_j}}$"
      ],
      "metadata": {
        "id": "eXqkvxwyBOpQ"
      }
    },
    {
      "cell_type": "code",
      "source": [
        "np.random.seed(SEED)\n",
        "\n",
        "def softmax(x):\n",
        "    e_x = np.exp(x)\n",
        "    return e_x / e_x.sum(axis=-1, keepdims=True)\n",
        "\n",
        "def self_attention(x):\n",
        "\n",
        "    # random weight matrices for Q, K, V\n",
        "    W_q = np.random.randn(embedding_dim, embedding_dim)\n",
        "    W_k = np.random.randn(embedding_dim, embedding_dim)\n",
        "    W_v = np.random.randn(embedding_dim, embedding_dim)\n",
        "\n",
        "    # a. Calculate Q, K, V matrices\n",
        "    Q = x @ W_q\n",
        "    K = x @ W_k\n",
        "    V = x @ W_v\n",
        "\n",
        "    # b. Scaled attention scores\n",
        "    scores = Q @ K.T / np.sqrt(embedding_dim)\n",
        "\n",
        "    # c. Causal Attention Masking\n",
        "    causal_mask = []\n",
        "    for i in range(seq_len):\n",
        "        row = []\n",
        "        for j in range(seq_len):\n",
        "            if j > i:\n",
        "                row.append(float('-inf'))  # block future tokens\n",
        "            else:\n",
        "                row.append(0.0) # allow current & past tokens\n",
        "        causal_mask.append(row)\n",
        "    causal_mask = np.array(causal_mask)\n",
        "\n",
        "    # Apply Causal Mask to Attention Scores\n",
        "    masked_attn_scores = scores + causal_mask\n",
        "\n",
        "    # d. Apply softmax\n",
        "    attn_weights = softmax(masked_attn_scores)\n",
        "\n",
        "    # e. Calculate wighted sum values\n",
        "    return attn_weights @ V\n",
        "\n",
        "attention_output = self_attention(input_embedding)"
      ],
      "metadata": {
        "id": "5u6t45CgBjWt"
      },
      "execution_count": 4,
      "outputs": []
    },
    {
      "cell_type": "markdown",
      "source": [
        "# Step 3. Residual Connection & Layer Normalization"
      ],
      "metadata": {
        "id": "08msq2ogE1RS"
      }
    },
    {
      "cell_type": "markdown",
      "source": [
        "Formula for residual connection:\n",
        "\n",
        "$ Z_{residual} = Input_{embedding}+Attention_{output} $\n",
        "\n",
        "Formula for layer normalization:\n",
        "\n",
        "$$\n",
        "N(x) = \\frac{x - \\mu}{\\alpha}\n",
        "$$\n",
        "\n",
        "$$\n",
        "\\mu = \\frac{1}{H} \\sum_{i=1}^{H} X_i\n",
        "$$\n",
        "\n",
        "$$\n",
        "\\alpha = \\sqrt{ \\frac{1}{H} \\sum_{i=1}^{H} (x_i - \\mu)^2 }\n",
        "$$\n",
        "\n",
        "Where:\n",
        "\n",
        "- \\( x \\) = Vector representation of inputs  \n",
        "- \\( H \\) = Number of inputs  \n",
        "- \\( \\mu \\) = Mean of inputs  \n",
        "- \\( \\alpha \\) = Standard deviation of inputs"
      ],
      "metadata": {
        "id": "09ow_hFDE8qI"
      }
    },
    {
      "cell_type": "code",
      "source": [
        "np.random.seed(SEED)\n",
        "\n",
        "def layer_norm(x):\n",
        "    mean = x.mean(axis=-1, keepdims=True)\n",
        "    std = x.std(axis=-1, keepdims=True)\n",
        "    return (x - mean) / std\n",
        "\n",
        "residual_conn = input_embedding + attention_output\n",
        "decoder_output = layer_norm(residual_conn)\n",
        "\n",
        "###<--- Write code here\n",
        "                # print decoder output matrix\n",
        "print(decoder_output)\n",
        "###"
      ],
      "metadata": {
        "id": "f2VnA8qOE0Bp",
        "outputId": "3d96df1e-e034-46ce-f656-c606de8e6164",
        "colab": {
          "base_uri": "https://localhost:8080/"
        }
      },
      "execution_count": 5,
      "outputs": [
        {
          "output_type": "stream",
          "name": "stdout",
          "text": [
            "[[-1.3  -0.64  0.83  1.1 ]\n",
            " [ 1.12 -0.57 -1.34  0.79]\n",
            " [-0.67  1.47  0.32 -1.13]\n",
            " [-0.68  1.57  0.14 -1.03]]\n"
          ]
        }
      ]
    },
    {
      "cell_type": "markdown",
      "source": [
        "# Step 4. Projection to Vocabulary"
      ],
      "metadata": {
        "id": "eUl8vBfcFxSd"
      }
    },
    {
      "cell_type": "markdown",
      "source": [
        "Since we want to predict the next token, we need the embedding of the last output token.\n",
        "\n",
        "Assume weight matrix for the linear layer: $𝑊_{out} ∈ 𝑅^{4×5}$ → here, embedding size = 4 and vocab size = 5\n",
        "\n",
        "$logits = \\text{embedding of last token} \\; * \\; W_{out} + bias$"
      ],
      "metadata": {
        "id": "aPngCMx5Ezz_"
      }
    },
    {
      "cell_type": "code",
      "execution_count": 6,
      "metadata": {
        "id": "YHuuOdeM5Jhx",
        "outputId": "9d27fa00-1393-4ec8-d76c-1169233fe6ce",
        "colab": {
          "base_uri": "https://localhost:8080/"
        }
      },
      "outputs": [
        {
          "output_type": "stream",
          "name": "stdout",
          "text": [
            "[ 1.27  3.32  0.54 -2.53  1.68]\n",
            "[0.09 0.72 0.04 0.   0.14]\n"
          ]
        }
      ],
      "source": [
        "np.random.seed(SEED)\n",
        "\n",
        "def project_to_vocab(x):\n",
        "    W_out = np.random.randn(embedding_dim, vocab_size)\n",
        "    b_out = np.random.randn(vocab_size)\n",
        "    return x @ W_out + b_out\n",
        "\n",
        "final_token_rep = decoder_output[-1]  # Use the last token (\"on\") to predict next\n",
        "\n",
        "###<--- Write code here\n",
        "logits =  project_to_vocab(final_token_rep)         # function call to vocabulary projection\n",
        "###\n",
        "\n",
        "print(logits)\n",
        "\n",
        "###<--- Write code here\n",
        "pred_probs = softmax(logits)      # softmax over logits\n",
        "###\n",
        "\n",
        "print(pred_probs)"
      ]
    },
    {
      "cell_type": "markdown",
      "source": [
        "# Step 5. Set Soft and Hard Labels"
      ],
      "metadata": {
        "id": "IoajkApXG4_j"
      }
    },
    {
      "cell_type": "code",
      "source": [
        "# Hard label\n",
        "hard_target_word = \"mat\"\n",
        "hard_target_index = word_to_index[hard_target_word]\n",
        "\n",
        "# Soft label - For simplicity we assume random proability distribution over the vocabulary\n",
        "soft_target = np.array([0.6, 0.1, 0.1, 0.1, 0.1])  # 60% for \"mat\""
      ],
      "metadata": {
        "id": "c6dgBMiqCwas"
      },
      "execution_count": 7,
      "outputs": []
    },
    {
      "cell_type": "markdown",
      "source": [
        "## Step 6. Cross Entropy Loss Calculation\n",
        "\n",
        "If we are doing cross-entropy loss for predicting over 5 words (assume the vocabulary size is 5), the cross-entropy loss for a single prediction is -  \n",
        "\n",
        "\n",
        "$\\mathcal{L} = - \\sum_{i=1}^{5} y_{i}\\log(\\hat{y}_{i})$\n",
        "\n",
        "Here,\n",
        "\n",
        "$y_{i}$ = 1 if word $i$ is the true label otherwise 0\n",
        "\n",
        "$\\hat{y}_{i}$ =  model’s predicted probability for word $i$\n",
        "\n",
        "Because only one $y_{i}$ is 1 (true label), this simplifies to -\n",
        "\n",
        "$\\mathcal{L} = - \\log(\\hat{y})$"
      ],
      "metadata": {
        "id": "I3AWIMgB8BOW"
      }
    },
    {
      "cell_type": "code",
      "source": [
        "###<--- Write code here\n",
        "ce_loss = -np.log(pred_probs[hard_target_index])             # cross entropy loss formula using hard target index\n",
        "###\n",
        "\n",
        "print(f\"Cross Entropy Loss (hard): {ce_loss:.4f}\")"
      ],
      "metadata": {
        "id": "wj8HU37ICxwg",
        "outputId": "09c7e949-8687-478d-c0cd-976eeb1cd5af",
        "colab": {
          "base_uri": "https://localhost:8080/"
        }
      },
      "execution_count": 8,
      "outputs": [
        {
          "output_type": "stream",
          "name": "stdout",
          "text": [
            "Cross Entropy Loss (hard): 2.3775\n"
          ]
        }
      ]
    },
    {
      "cell_type": "markdown",
      "source": [
        "## Step 7. KL Divergence Loss Calculation\n",
        "\n",
        "If we are predicting over 5 words (with a vocabulary size of 5), the KL divergence between two probability distributions \\( P \\) (true distribution) and \\( Q \\) (predicted distribution) is given by:\n",
        "\n",
        "$\\mathcal{L}_{KL} = \\sum_{i=1}^{5} y_i \\log \\left( \\frac{y_i}{\\hat{y}_i} \\right)$\n",
        "\n",
        "Where:\n",
        "\n",
        "- $y_{i}$ is the true probability distribution over the words, i.e., the true probability that word \\( i \\) is the correct one.\n",
        "- $ \\hat{y}_i $ is the predicted probability for word \\( i \\) from the model.\n",
        "\n",
        "This can be rewritten as:\n",
        "\n",
        "$\n",
        "\\mathcal{L}_{KL} = \\sum_{i=1}^{5} y_i \\left( \\log(y_i) - \\log(\\hat{y}_i) \\right)\n",
        "$\n"
      ],
      "metadata": {
        "id": "0eq9pu_x95hd"
      }
    },
    {
      "cell_type": "code",
      "source": [
        "###<--- Write code here\n",
        "kl_loss =  np.sum( soft_target * (np.log(soft_target ) - np.log(pred_probs)) )          # kl divergence loss formula using soft target and predicted probability\n",
        "###\n",
        "\n",
        "print(f\"KL Divergence Loss (soft): {kl_loss:.4f}\")"
      ],
      "metadata": {
        "id": "xgCzdBKJGI_i",
        "outputId": "1f432640-29fb-46a9-89c0-db1a70b9c5d3",
        "colab": {
          "base_uri": "https://localhost:8080/"
        }
      },
      "execution_count": 9,
      "outputs": [
        {
          "output_type": "stream",
          "name": "stdout",
          "text": [
            "KL Divergence Loss (soft): 1.3575\n"
          ]
        }
      ]
    },
    {
      "cell_type": "markdown",
      "source": [
        "## Visualization"
      ],
      "metadata": {
        "id": "PKCsHDvO8VKs"
      }
    },
    {
      "cell_type": "code",
      "source": [
        "x_axis = np.arange(vocab_size)\n",
        "\n",
        "plt.figure(figsize=(10, 4))\n",
        "\n",
        "plt.subplot(1, 2, 1)\n",
        "plt.bar(x_axis, np.eye(vocab_size)[hard_target_index], label='Hard Target Label', alpha=0.6)\n",
        "plt.bar(x_axis, pred_probs, label='Prediction', alpha=0.6)\n",
        "plt.xticks(x_axis, vocab)\n",
        "plt.title(\"Hard Label vs Prediction\")\n",
        "plt.legend()\n",
        "\n",
        "plt.subplot(1, 2, 2)\n",
        "plt.bar(x_axis, soft_target, label='Soft Target Label', alpha=0.6)\n",
        "plt.bar(x_axis, pred_probs, label='Prediction', alpha=0.6)\n",
        "plt.xticks(x_axis, vocab)\n",
        "plt.title(\"Soft Label vs Prediction\")\n",
        "plt.legend()\n",
        "\n",
        "plt.tight_layout()\n",
        "plt.show()"
      ],
      "metadata": {
        "id": "3XSeZ8wWBKG9",
        "outputId": "099936fe-783f-42d3-9eaf-51dc4395a0f4",
        "colab": {
          "base_uri": "https://localhost:8080/",
          "height": 407
        }
      },
      "execution_count": 10,
      "outputs": [
        {
          "output_type": "display_data",
          "data": {
            "text/plain": [
              "<Figure size 1000x400 with 2 Axes>"
            ],
            "image/png": "[encoded data removed]"
          },
          "metadata": {}
        }
      ]
    }
  ]
}
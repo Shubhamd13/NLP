{
  "nbformat": 4,
  "nbformat_minor": 0,
  "metadata": {
    "colab": {
      "provenance": [],
      "collapsed_sections": [
        "JPMlx0-oU7iY",
        "J4h2qss3U9hO"
      ],
      "include_colab_link": true
    },
    "kernelspec": {
      "name": "python3",
      "display_name": "Python 3"
    },
    "language_info": {
      "name": "python"
    }
  },
  "cells": [
    {
      "cell_type": "markdown",
      "metadata": {
        "id": "view-in-github",
        "colab_type": "text"
      },
      "source": [
        "<a href=\"https://colab.research.google.com/github/Shubhamd13/NLP/blob/main/2_2_Word2Vec_Training_Student_Copy.ipynb\" target=\"_parent\"><img src=\"https://colab.research.google.com/assets/colab-badge.svg\" alt=\"Open In Colab\"/></a>"
      ]
    },
    {
      "cell_type": "markdown",
      "source": [
        "## Import"
      ],
      "metadata": {
        "id": "JPMlx0-oU7iY"
      }
    },
    {
      "cell_type": "code",
      "source": [
        "import numpy as np\n",
        "import matplotlib.pyplot as plt\n",
        "from sklearn.decomposition import PCA\n",
        "import random\n",
        "\n",
        "# Set random seed for reproducibility\n",
        "np.random.seed(42)\n",
        "random.seed(42)"
      ],
      "metadata": {
        "id": "ylYszCiM9SVx"
      },
      "execution_count": 2,
      "outputs": []
    },
    {
      "cell_type": "markdown",
      "source": [
        "## Plotting Utility"
      ],
      "metadata": {
        "id": "J4h2qss3U9hO"
      }
    },
    {
      "cell_type": "code",
      "source": [
        "import matplotlib.pyplot as plt\n",
        "\n",
        "# Plot Embedding\n",
        "def plot_embedding(matrix, vocab):\n",
        "    plt.figure(figsize=(7, 4))\n",
        "\n",
        "    for voc in vocab:\n",
        "        indx = word_to_index[voc]\n",
        "        x = matrix[indx, 0]\n",
        "        y = matrix[indx, 1]\n",
        "        plt.scatter(x, y)\n",
        "        plt.annotate(voc, xy=(x, y))\n",
        "\n",
        "    plt.xlim((-3, 3))\n",
        "    plt.ylim((-3, 3))\n",
        "    plt.title(\"Embedding Visualization\")\n",
        "    plt.xlabel(\"X-axis\")\n",
        "    plt.ylabel(\"Y-axis\")\n",
        "    plt.grid(True)\n",
        "    plt.show()"
      ],
      "metadata": {
        "id": "vOntGrg_Q4uJ"
      },
      "execution_count": 3,
      "outputs": []
    },
    {
      "cell_type": "markdown",
      "source": [
        "# Define our vocabulary - Positive Pair (UCR, UCI), Negative Pair (UCR, UCD)"
      ],
      "metadata": {
        "id": "c-_aNPJKgFeJ"
      }
    },
    {
      "cell_type": "code",
      "source": [
        "# Define our vocabulary\n",
        "southern_schools = [\"UCLA\", \"UCSD\", \"UCI\", \"UCR\", \"UCSB\"]\n",
        "northern_schools = [\"UCB\", \"UCSC\", \"UCD\", \"UCSF\", \"UCM\"]\n",
        "vocab = southern_schools + northern_schools\n",
        "\n",
        "word_to_index = {word: i for i, word in enumerate(vocab)}\n",
        "index_to_word = {i: word for i, word in enumerate(vocab)}\n",
        "\n",
        "vocab_size = len(vocab)\n",
        "\n",
        "embedding_dim = 2\n",
        "learning_rate = 5"
      ],
      "metadata": {
        "id": "RE-YssRMbEzM"
      },
      "execution_count": 4,
      "outputs": []
    },
    {
      "cell_type": "markdown",
      "source": [
        "# Q1: What is the index of the word \"UCR\" in the vocabulary?"
      ],
      "metadata": {
        "id": "IOCA8Us0gLT5"
      }
    },
    {
      "cell_type": "code",
      "source": [
        "## Write code here\n",
        "word_to_index['UCR']"
      ],
      "metadata": {
        "id": "4_zHgsk3bF6G",
        "outputId": "22b61221-075c-4a6a-df0b-34ec8d35b9d9",
        "colab": {
          "base_uri": "https://localhost:8080/"
        }
      },
      "execution_count": 5,
      "outputs": [
        {
          "output_type": "execute_result",
          "data": {
            "text/plain": [
              "3"
            ]
          },
          "metadata": {},
          "execution_count": 5
        }
      ]
    },
    {
      "cell_type": "markdown",
      "source": [
        "# Q2: What is the one-hot vector of the word \"UCR\"?"
      ],
      "metadata": {
        "id": "xMvmLsApgRFn"
      }
    },
    {
      "cell_type": "code",
      "source": [
        "## Write code here\n",
        "one_hot = [0] * vocab_size\n",
        "one_hot[word_to_index['UCR']] = 1\n",
        "\n",
        "print(f\"One-hot vector for UCR: {one_hot}\")"
      ],
      "metadata": {
        "id": "dKoezboQbIYY",
        "outputId": "0d290990-b4df-439c-a01b-b841ca82ee50",
        "colab": {
          "base_uri": "https://localhost:8080/"
        }
      },
      "execution_count": 7,
      "outputs": [
        {
          "output_type": "stream",
          "name": "stdout",
          "text": [
            "One-hot vector for UCR: [0, 0, 0, 1, 0, 0, 0, 0, 0, 0]\n"
          ]
        }
      ]
    },
    {
      "cell_type": "markdown",
      "source": [
        "# Q3: Initialize weight matrix and context matrix randomly"
      ],
      "metadata": {
        "id": "oa66hacjgUYV"
      }
    },
    {
      "cell_type": "code",
      "source": [
        "np.random.seed(42)\n",
        "random.seed(42)\n",
        "\n",
        "A =  vocab_size ## this is the vocabulary size\n",
        "B =  embedding_dim ## this is the embedding dimension\n",
        "\n",
        "\n",
        "W = np.random.randn(A, B)\n",
        "C = np.random.randn(A, B)\n",
        "print(W[word_to_index['UCR']])\n",
        "\n",
        "\n",
        "plot_embedding(W, [\"UCR\", \"UCI\", \"UCD\"])"
      ],
      "metadata": {
        "id": "slZUX98ZbLpl",
        "outputId": "68c4a193-7e7f-4700-8610-8e7e48a51496",
        "colab": {
          "base_uri": "https://localhost:8080/",
          "height": 427
        }
      },
      "execution_count": 8,
      "outputs": [
        {
          "output_type": "stream",
          "name": "stdout",
          "text": [
            "[1.57921282 0.76743473]\n"
          ]
        },
        {
          "output_type": "display_data",
          "data": {
            "text/plain": [
              "<Figure size 700x400 with 1 Axes>"
            ],
            "image/png": "[encoded data removed]"
          },
          "metadata": {}
        }
      ]
    },
    {
      "cell_type": "markdown",
      "source": [
        "# Q4. Define Activation Function\n",
        "\n",
        "Sigmoid Function: $\\sigma(z) = \\frac{1}{ 1 + exp(-z)}$"
      ],
      "metadata": {
        "id": "KDJrSKuwclyQ"
      }
    },
    {
      "cell_type": "code",
      "source": [
        "#! define sigmoid function\n",
        "def sigmoid(z):\n",
        "  z = np.clip(z, -100, 100)\n",
        "  return 1 / (1 + np.exp(-z))\n",
        "\n",
        "# cosine similarity\n",
        "def cosine_similarity(a, b):\n",
        "    return np.dot(a, b) / (np.linalg.norm(a) * np.linalg.norm(b))"
      ],
      "metadata": {
        "id": "AzEtY-jcbQf_"
      },
      "execution_count": 9,
      "outputs": []
    },
    {
      "cell_type": "code",
      "source": [
        "# Q4. If two schools have a dot product of 2.5, what would be the sigmoid of this value?\n",
        "\n",
        "## Write code here\n",
        "sigmoid(2.5)"
      ],
      "metadata": {
        "id": "XAWND4WCijse",
        "outputId": "316c10d5-db02-4168-a309-6d7064f65ca4",
        "colab": {
          "base_uri": "https://localhost:8080/"
        }
      },
      "execution_count": 10,
      "outputs": [
        {
          "output_type": "execute_result",
          "data": {
            "text/plain": [
              "np.float64(0.9241418199787566)"
            ]
          },
          "metadata": {},
          "execution_count": 10
        }
      ]
    },
    {
      "cell_type": "code",
      "source": [
        "# Find the cosine similarity of (UCR, UCI).\n",
        "\n",
        "## Write code here\n",
        "cosine_similarity(W[word_to_index[\"UCR\"]], W[word_to_index[\"UCI\"]])"
      ],
      "metadata": {
        "id": "lOQ2A8bd3523",
        "outputId": "2862e71d-408e-491b-aedd-f1cd3811604f",
        "colab": {
          "base_uri": "https://localhost:8080/"
        }
      },
      "execution_count": 11,
      "outputs": [
        {
          "output_type": "execute_result",
          "data": {
            "text/plain": [
              "np.float64(-0.9450626212774035)"
            ]
          },
          "metadata": {},
          "execution_count": 11
        }
      ]
    },
    {
      "cell_type": "markdown",
      "source": [
        "# Q5-Q6 Forward\n",
        "\n",
        "$L_{CE}=-\\bigg[log\\sigma(c_{pos}\\cdot w) + \\sum_{i=1}^{k}log\\sigma(-c_{neg_i}\\cdot w)\\bigg]$"
      ],
      "metadata": {
        "id": "EQiuwT6gctFT"
      }
    },
    {
      "cell_type": "code",
      "source": [
        "# Q5. What is the loss of the positive pair (UCR, UCI) before optimization?\n",
        "\n",
        "context_word = \"UCI\"\n",
        "target_word = \"UCR\"\n",
        "\n",
        "# convert to index.\n",
        "context_word_index = word_to_index[context_word]\n",
        "target_word_index = word_to_index[target_word]\n",
        "\n",
        "# obtain context vector\n",
        "h_context = C[context_word_index]\n",
        "\n",
        "# compute positive prediction and loss.\n",
        "u_target = np.dot(h_context,W[target_word_index]) ## Write code here for the dot product\n",
        "pos_loss = -np.log(sigmoid(u_target))\n",
        "\n",
        "print(pos_loss)"
      ],
      "metadata": {
        "id": "4ygH6ysTbfuM",
        "outputId": "eeb8dfd0-51ec-44a0-8b83-4d9712f854e9",
        "colab": {
          "base_uri": "https://localhost:8080/"
        }
      },
      "execution_count": 12,
      "outputs": [
        {
          "output_type": "stream",
          "name": "stdout",
          "text": [
            "1.1536242268638053\n"
          ]
        }
      ]
    },
    {
      "cell_type": "code",
      "source": [
        "# Q6. What is the loss of the negative pair (UCR, UCD) before optimization?\n",
        "\n",
        "# Obtain negative samples.\n",
        "neg_samples_index = word_to_index[\"UCD\"]\n",
        "\n",
        "# obtain context vector for negative\n",
        "h_neg = C[neg_samples_index]\n",
        "\n",
        "#! compute negative prediction and loss.\n",
        "u_neg_samples = np.dot(h_neg,W[target_word_index]) ## Write code here for the dot product\n",
        "neg_loss = -np.sum(np.log(sigmoid(-u_neg_samples)))\n",
        "\n",
        "print(neg_loss)"
      ],
      "metadata": {
        "id": "tJE-NsD7bpeH",
        "outputId": "b90a3ceb-6f90-46cb-99a1-a380b4e1f9a8",
        "colab": {
          "base_uri": "https://localhost:8080/"
        }
      },
      "execution_count": 13,
      "outputs": [
        {
          "output_type": "stream",
          "name": "stdout",
          "text": [
            "0.890471821792204\n"
          ]
        }
      ]
    },
    {
      "cell_type": "markdown",
      "source": [
        "# Q7-Q9 Backward\n",
        "\n",
        "1. $c^{t+1}_{pos} = c^t_{pos} - \\eta [\\sigma(c^t_{pos}\\cdot w^t)-1]w^t$\n",
        "\n",
        "2. $c^{t+1}_{neg} = c^t_{neg} - \\eta [\\sigma(c^t_{neg}\\cdot w^t)]w^t$\n",
        "\n",
        "3. $w^{t+1} = w^t - \\eta \\bigg[ [\\sigma (c_{pos} \\cdot w^t - 1)]c_{pos} + \\sum_{i=1}^{k}[\\sigma (c_{neg_i}\\cdot w^t)] c_{neg_i}\\bigg]$"
      ],
      "metadata": {
        "id": "eLo5enVKdIOE"
      }
    },
    {
      "cell_type": "code",
      "source": [
        "# Q7. What is the value of the positive gradient?\n",
        "\n",
        "grad_pos = ## Write code here (hints: sigmoid(positive context word vector dot target word vector); dot product calculated in Q5)\n",
        "print(grad_pos)\n",
        "W[target_word_index]  -= learning_rate * grad_pos * C[context_word_index]\n",
        "C[context_word_index] -= learning_rate * grad_pos * W[target_word_index]"
      ],
      "metadata": {
        "id": "X8ukaZBsb23f"
      },
      "execution_count": null,
      "outputs": []
    },
    {
      "cell_type": "code",
      "source": [
        "# Q8. What is the value of the negative gradient?\n",
        "\n",
        "grad_neg = ## Write code here (hints: sigmoid(negative context word vector dot target word vector); dot product calculated in Q6)\n",
        "print(grad_neg)\n",
        "W[target_word_index] -= learning_rate * grad_neg * C[neg_samples_index]\n",
        "C[neg_samples_index] -= learning_rate * grad_neg * W[target_word_index]"
      ],
      "metadata": {
        "id": "O9lVA9Nhb9Re"
      },
      "execution_count": null,
      "outputs": []
    },
    {
      "cell_type": "code",
      "source": [
        "# Q9. What is the new weight of the word \"UCR\" after optimization?\n",
        "\n",
        "## Write code here\n",
        "\n",
        "plot_embedding(W, [\"UCR\", \"UCI\", \"UCD\"])"
      ],
      "metadata": {
        "id": "-1C2wVjVb_-p"
      },
      "execution_count": null,
      "outputs": []
    },
    {
      "cell_type": "markdown",
      "source": [
        "# Q10. Cosine between the positive pair"
      ],
      "metadata": {
        "id": "as0lPcm3mzL_"
      }
    },
    {
      "cell_type": "code",
      "source": [
        "# Q10. What is the cosine similarity of the positive pair (UCR, UCI) after optimization?\n",
        "\n",
        "## Write code here"
      ],
      "metadata": {
        "id": "m_h8fDh8mbVc"
      },
      "execution_count": null,
      "outputs": []
    }
  ]
}